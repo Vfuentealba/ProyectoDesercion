{
 "cells": [
  {
   "cell_type": "code",
   "execution_count": 1,
   "metadata": {},
   "outputs": [],
   "source": [
    "import os\n",
    "from sqlalchemy import create_engine, text\n",
    "import  config as config\n",
    "import  query as query\n"
   ]
  },
  {
   "cell_type": "code",
   "execution_count": 2,
   "metadata": {},
   "outputs": [],
   "source": [
    "# Tratamiento de datos\n",
    "# ==============================================================================\n",
    "import numpy as np\n",
    "import pandas as pd\n",
    "import statsmodels.api as sm\n",
    "import seaborn as sns"
   ]
  },
  {
   "cell_type": "code",
   "execution_count": 3,
   "metadata": {},
   "outputs": [],
   "source": [
    "#Conexión BD \n",
    "# text(query.sql) -> En la versiones superiores a la 2.0 de  sqlalchemy  se elimina la funcion  Engine.execute , entonces se debe usar TextClause, corresponde con una cadena SQL textual mediante la función sqlalchemy.text. \n",
    "_engine = create_engine(f'oracle+cx_oracle://{config.username()}:{config.password()}@{config.dns()}',max_overflow=5_000)\n",
    "_conexion = _engine.connect()\n",
    "_alchemy_query = text(query.sql) "
   ]
  },
  {
   "cell_type": "code",
   "execution_count": 4,
   "metadata": {},
   "outputs": [],
   "source": [
    "data = pd.read_sql_query(sql=_alchemy_query , con=_conexion) \n",
    "\n",
    "## dejo el data frame original\n",
    "df_data = data\n",
    "\n",
    "valores = [2018,2019,2021,2022]\n",
    "df_data = df_data[df_data['anos_ccod'].isin(valores)]"
   ]
  },
  {
   "cell_type": "code",
   "execution_count": 5,
   "metadata": {},
   "outputs": [],
   "source": [
    "df_data = df_data.drop(['pers_ncorr','emat_tdesc','pers_nrut','rut_alumno_cdv','anos_ccod'],axis=1)"
   ]
  },
  {
   "cell_type": "code",
   "execution_count": 6,
   "metadata": {},
   "outputs": [
    {
     "data": {
      "text/plain": [
       "inst_tnemotecnia                    0\n",
       "sede_tdesc                          0\n",
       "zona_tdesc                          0\n",
       "area_tdesc                          0\n",
       "jorn_tdesc                          0\n",
       "sexo_tdesc                          0\n",
       "tcol_tdesc                      10032\n",
       "cant_dias_matr                      0\n",
       "parentesco_fiador_new               0\n",
       "cant_periodos_postulaciones         0\n",
       "veces_accesos_app                   0\n",
       "ev_diagnostica_2                  373\n",
       "ev_diagnostica_4                  284\n",
       "sin_beneficios                      0\n",
       "cae                                 0\n",
       "promedio_asistencia                 0\n",
       "monto_deuda                         0\n",
       "promedio_notas                      0\n",
       "responde_encuesta_an                0\n",
       "p_asig_riesgo                       0\n",
       "codigo_asignatura_mat_alg_ss        0\n",
       "es_desertor                         0\n",
       "dtype: int64"
      ]
     },
     "execution_count": 6,
     "metadata": {},
     "output_type": "execute_result"
    }
   ],
   "source": [
    "df_data.isnull().sum()"
   ]
  },
  {
   "attachments": {},
   "cell_type": "markdown",
   "metadata": {},
   "source": [
    "# Tratamiento de nulos"
   ]
  },
  {
   "cell_type": "code",
   "execution_count": 7,
   "metadata": {},
   "outputs": [],
   "source": [
    "# tcol_tdesc                            dejo una nueva categoria \n",
    "df_data['tcol_tdesc'] = df_data['tcol_tdesc'].fillna('Sin Categoria')"
   ]
  },
  {
   "cell_type": "code",
   "execution_count": 8,
   "metadata": {},
   "outputs": [
    {
     "data": {
      "text/plain": [
       "Particular Subvencionado                            55900\n",
       "Municipal                                           26375\n",
       "Corporación Municipal                               13648\n",
       "Sin Categoria                                       10032\n",
       "Corporación de Administración Delegada (DL 3166)     7758\n",
       "Servicio Local de Educación                          7703\n",
       "Particular Pagado o no subvencionado                 4577\n",
       "Name: tcol_tdesc, dtype: int64"
      ]
     },
     "execution_count": 8,
     "metadata": {},
     "output_type": "execute_result"
    }
   ],
   "source": [
    "df_data['tcol_tdesc'].value_counts()"
   ]
  },
  {
   "cell_type": "code",
   "execution_count": 9,
   "metadata": {},
   "outputs": [],
   "source": [
    "## ev_diagnostica_2 lleno con 0 y discretizo la variable\n",
    "df_data['ev_diagnostica_2'] = df_data['ev_diagnostica_2'].fillna(0)\n",
    "df_data['ev_diagnostica_4'] = df_data['ev_diagnostica_4'].fillna(0)"
   ]
  },
  {
   "attachments": {},
   "cell_type": "markdown",
   "metadata": {},
   "source": [
    "# Genero Archivo con informacion de datos"
   ]
  },
  {
   "cell_type": "code",
   "execution_count": 10,
   "metadata": {},
   "outputs": [
    {
     "ename": "ModuleNotFoundError",
     "evalue": "No module named 'ydata_profiling'",
     "output_type": "error",
     "traceback": [
      "\u001b[0;31m---------------------------------------------------------------------------\u001b[0m",
      "\u001b[0;31mModuleNotFoundError\u001b[0m                       Traceback (most recent call last)",
      "Cell \u001b[0;32mIn[10], line 1\u001b[0m\n\u001b[0;32m----> 1\u001b[0m \u001b[39mimport\u001b[39;00m \u001b[39mydata_profiling\u001b[39;00m\n\u001b[1;32m      2\u001b[0m \u001b[39m#profile = ydata_profiling.ProfileReport(df_data) # generamos el perfil de datos\u001b[39;00m\n\u001b[1;32m      3\u001b[0m \u001b[39m#profile.to_file('html/analisis_variables.html') # almacenamos el perfil de datos en un archivo html\u001b[39;00m\n",
      "\u001b[0;31mModuleNotFoundError\u001b[0m: No module named 'ydata_profiling'"
     ]
    }
   ],
   "source": [
    "import ydata_profiling\n",
    "#profile = ydata_profiling.ProfileReport(df_data) # generamos el perfil de datos\n",
    "#profile.to_file('html/analisis_variables.html') # almacenamos el perfil de datos en un archivo html\n"
   ]
  },
  {
   "attachments": {},
   "cell_type": "markdown",
   "metadata": {},
   "source": [
    "# Discretización variables numericas"
   ]
  },
  {
   "cell_type": "code",
   "execution_count": 11,
   "metadata": {},
   "outputs": [],
   "source": [
    "from sklearn.preprocessing import KBinsDiscretizer "
   ]
  },
  {
   "cell_type": "code",
   "execution_count": 12,
   "metadata": {},
   "outputs": [],
   "source": [
    "#n_bins: número de intervalos a discretizar. Tiene que ser mayor que 2 y por defecto toma el valor de 5.\n",
    "#encode: Método utilizado para codificar el resultado transformado. \n",
    "#    Tiene tres opciones: ‘onehot‘ , ‘onehot-dense‘ y ‘ordinal‘. \n",
    "#    La primera de las codificaciones devuelve una matriz dispersa por cada valor, \n",
    "#    la segunda codificación devuelve un array y \n",
    "#    la última un valor entero. Por defecto toma la codificación onehot.\n",
    "\n",
    "#strategy: Es la estrategia usada para definir cuántos valores hay en cada intervalo discretizado. \n",
    "#    Tiene tres opciones: ‘uniform‘, donde todos los intervalos tienen el mismo ancho, \n",
    "#                         ‘quantile‘, donde cada intervalo tiene el mismo número de valores   \n",
    "#                         ‘kmeans‘, que agrupa los datos de cada intervalo según su centroide más cercano. Por defecto toma el valor de quantile."
   ]
  },
  {
   "cell_type": "code",
   "execution_count": 12,
   "metadata": {},
   "outputs": [],
   "source": [
    "df_data['ev_diagnostica_2_new'] = KBinsDiscretizer(n_bins=11, encode='ordinal',\n",
    "                           strategy = \"kmeans\").fit_transform(df_data[['ev_diagnostica_2']])"
   ]
  },
  {
   "cell_type": "code",
   "execution_count": 13,
   "metadata": {},
   "outputs": [],
   "source": [
    "df_data = df_data.drop(['ev_diagnostica_2'] , axis = 1)"
   ]
  },
  {
   "cell_type": "code",
   "execution_count": 14,
   "metadata": {},
   "outputs": [],
   "source": [
    "df_data['ev_diagnostica_4_new'] = KBinsDiscretizer(n_bins=11, encode='ordinal',\n",
    "                           strategy = \"kmeans\").fit_transform(df_data[['ev_diagnostica_4']])"
   ]
  },
  {
   "cell_type": "code",
   "execution_count": 15,
   "metadata": {},
   "outputs": [],
   "source": [
    "df_data = df_data.drop(['ev_diagnostica_4'] , axis = 1)"
   ]
  },
  {
   "cell_type": "code",
   "execution_count": 16,
   "metadata": {},
   "outputs": [],
   "source": [
    "df_data['p_asig_riesgo_new'] = KBinsDiscretizer(n_bins=11, encode='ordinal',\n",
    "                           strategy = \"kmeans\").fit_transform(df_data[['p_asig_riesgo']])"
   ]
  },
  {
   "cell_type": "code",
   "execution_count": 17,
   "metadata": {},
   "outputs": [],
   "source": [
    "df_data = df_data.drop(['p_asig_riesgo'] , axis = 1)"
   ]
  },
  {
   "cell_type": "code",
   "execution_count": 18,
   "metadata": {},
   "outputs": [
    {
     "data": {
      "text/plain": [
       "0.0     32590\n",
       "2.0     26551\n",
       "3.0     15809\n",
       "10.0    13321\n",
       "4.0      9567\n",
       "5.0      7274\n",
       "6.0      5597\n",
       "7.0      4857\n",
       "8.0      4799\n",
       "1.0      4736\n",
       "9.0       892\n",
       "Name: p_asig_riesgo_new, dtype: int64"
      ]
     },
     "execution_count": 18,
     "metadata": {},
     "output_type": "execute_result"
    }
   ],
   "source": [
    "#Analizo la variable accesos \n",
    "df_data['p_asig_riesgo_new'].value_counts()"
   ]
  },
  {
   "cell_type": "code",
   "execution_count": 19,
   "metadata": {},
   "outputs": [
    {
     "data": {
      "text/plain": [
       "count    125993.000000\n",
       "mean         37.855929\n",
       "std          27.188474\n",
       "min           0.000000\n",
       "25%          16.000000\n",
       "50%          31.000000\n",
       "75%          54.000000\n",
       "max         223.000000\n",
       "Name: veces_accesos_app, dtype: float64"
      ]
     },
     "execution_count": 19,
     "metadata": {},
     "output_type": "execute_result"
    }
   ],
   "source": [
    "df_data['veces_accesos_app'].describe()"
   ]
  },
  {
   "cell_type": "code",
   "execution_count": 20,
   "metadata": {},
   "outputs": [],
   "source": [
    "## TRansformo y normalizo veces accesos app y monto deuda\n",
    "from sklearn.preprocessing import StandardScaler\n",
    "scaler = StandardScaler()"
   ]
  },
  {
   "cell_type": "code",
   "execution_count": 21,
   "metadata": {},
   "outputs": [
    {
     "name": "stdout",
     "output_type": "stream",
     "text": [
      "StandardScaler()\n"
     ]
    }
   ],
   "source": [
    "print(scaler.fit(df_data[['veces_accesos_app']]))\n",
    "StandardScaler()\n",
    "df_data['veces_accesos_app_new'] = scaler.transform(df_data[['veces_accesos_app']])\n",
    "df_data = df_data.drop(['veces_accesos_app'], axis = 1)"
   ]
  },
  {
   "cell_type": "code",
   "execution_count": 22,
   "metadata": {},
   "outputs": [
    {
     "name": "stdout",
     "output_type": "stream",
     "text": [
      "StandardScaler()\n"
     ]
    }
   ],
   "source": [
    "print(scaler.fit(df_data[['monto_deuda']]))\n",
    "StandardScaler()\n",
    "df_data['monto_deuda_new'] = scaler.transform(df_data[['monto_deuda']])\n",
    "df_data = df_data.drop(['monto_deuda'], axis = 1)"
   ]
  },
  {
   "cell_type": "code",
   "execution_count": 23,
   "metadata": {},
   "outputs": [
    {
     "data": {
      "text/plain": [
       "Index(['inst_tnemotecnia', 'sede_tdesc', 'zona_tdesc', 'area_tdesc',\n",
       "       'jorn_tdesc', 'sexo_tdesc', 'tcol_tdesc', 'cant_dias_matr',\n",
       "       'parentesco_fiador_new', 'cant_periodos_postulaciones',\n",
       "       'sin_beneficios', 'cae', 'promedio_asistencia', 'promedio_notas',\n",
       "       'responde_encuesta_an', 'codigo_asignatura_mat_alg_ss', 'es_desertor',\n",
       "       'ev_diagnostica_2_new', 'ev_diagnostica_4_new', 'p_asig_riesgo_new',\n",
       "       'veces_accesos_app_new', 'monto_deuda_new'],\n",
       "      dtype='object')"
      ]
     },
     "execution_count": 23,
     "metadata": {},
     "output_type": "execute_result"
    }
   ],
   "source": [
    "df_data.columns"
   ]
  },
  {
   "attachments": {},
   "cell_type": "markdown",
   "metadata": {},
   "source": [
    "# DUMMIES"
   ]
  },
  {
   "cell_type": "code",
   "execution_count": 24,
   "metadata": {},
   "outputs": [],
   "source": [
    "# Genero Dummies de las variables categoricas \n",
    "df_data = pd.get_dummies(df_data,drop_first=\"True\")"
   ]
  },
  {
   "cell_type": "code",
   "execution_count": 25,
   "metadata": {},
   "outputs": [
    {
     "data": {
      "text/plain": [
       "(125993, 95)"
      ]
     },
     "execution_count": 25,
     "metadata": {},
     "output_type": "execute_result"
    }
   ],
   "source": [
    "df_data.shape"
   ]
  },
  {
   "attachments": {},
   "cell_type": "markdown",
   "metadata": {},
   "source": [
    "## Separación en train y test para generar archivos que se trabajarn en los modelos "
   ]
  },
  {
   "cell_type": "code",
   "execution_count": 26,
   "metadata": {},
   "outputs": [],
   "source": [
    "from sklearn.model_selection import train_test_split"
   ]
  },
  {
   "cell_type": "code",
   "execution_count": 27,
   "metadata": {},
   "outputs": [],
   "source": [
    "# Realizo una primera separación para dejar datos exlcusivamente para validar \n",
    "train, test= train_test_split(df_data,test_size=0.2,  random_state = 0, stratify=df_data['es_desertor'])\n",
    "#"
   ]
  },
  {
   "cell_type": "code",
   "execution_count": 28,
   "metadata": {},
   "outputs": [],
   "source": [
    "y_train = train.pop('es_desertor')\n",
    "X_train = train"
   ]
  },
  {
   "cell_type": "code",
   "execution_count": 29,
   "metadata": {},
   "outputs": [],
   "source": [
    "y_test= test.pop('es_desertor')\n",
    "X_test = test"
   ]
  },
  {
   "cell_type": "code",
   "execution_count": 31,
   "metadata": {},
   "outputs": [],
   "source": [
    "X_test.reset_index().to_feather('../data/processed/X_test.feather')\n",
    "X_train.reset_index().to_feather('../data/processed/X_train.feather')\n",
    "\n",
    "y_test.reset_index().to_feather('../data/processed/y_test.feather')\n",
    "y_train.reset_index().to_feather('../data/processed/y_train.feather')\n",
    "\n",
    "df_data.reset_index().to_feather('../data/raw/data.feather')"
   ]
  }
 ],
 "metadata": {
  "kernelspec": {
   "display_name": "desercion",
   "language": "python",
   "name": "python3"
  },
  "language_info": {
   "codemirror_mode": {
    "name": "ipython",
    "version": 3
   },
   "file_extension": ".py",
   "mimetype": "text/x-python",
   "name": "python",
   "nbconvert_exporter": "python",
   "pygments_lexer": "ipython3",
   "version": "3.9.16"
  },
  "orig_nbformat": 4
 },
 "nbformat": 4,
 "nbformat_minor": 2
}
